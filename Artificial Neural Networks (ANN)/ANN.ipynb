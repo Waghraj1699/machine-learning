{
  "nbformat": 4,
  "nbformat_minor": 0,
  "metadata": {
    "colab": {
      "provenance": [],
      "gpuType": "T4"
    },
    "kernelspec": {
      "name": "python3",
      "display_name": "Python 3"
    },
    "language_info": {
      "name": "python"
    },
    "accelerator": "GPU"
  },
  "cells": [
    {
      "cell_type": "markdown",
      "source": [
        "#Data Preprocessing\n"
      ],
      "metadata": {
        "id": "5iwLuQ5OtbKn"
      }
    },
    {
      "cell_type": "code",
      "execution_count": 81,
      "metadata": {
        "id": "YFusESylkImU"
      },
      "outputs": [],
      "source": [
        "import numpy as np\n",
        "import pandas as pd\n",
        "import tensorflow as tf"
      ]
    },
    {
      "cell_type": "code",
      "source": [
        "dataset = pd.read_csv('/content/Dataset_master.xlsx - American Express User Exit Pred.csv')\n",
        "X = dataset.iloc[:,0:-1].values\n",
        "y = dataset.iloc[:,-1].values"
      ],
      "metadata": {
        "id": "9EN_9pk3rAVI"
      },
      "execution_count": 82,
      "outputs": []
    },
    {
      "cell_type": "code",
      "source": [
        "print(X)"
      ],
      "metadata": {
        "colab": {
          "base_uri": "https://localhost:8080/"
        },
        "id": "8L-kYBpkrSDa",
        "outputId": "7a107193-9198-479b-af69-4fc39ef70ae9"
      },
      "execution_count": 83,
      "outputs": [
        {
          "output_type": "stream",
          "name": "stdout",
          "text": [
            "[[553 'Delhi' 'Female' ... 4 1 274150]\n",
            " [447 'Bengaluru' 'Male' ... 4 1 519360]\n",
            " [501 'Delhi' 'Female' ... 4 1 545501]\n",
            " ...\n",
            " [627 'Mumbai' 'Female' ... 4 0 494067]\n",
            " [600 'Bengaluru' 'Female' ... 2 1 109375]\n",
            " [553 'Delhi' 'Male' ... 4 1 180031]]\n"
          ]
        }
      ]
    },
    {
      "cell_type": "code",
      "source": [
        "from sklearn.preprocessing import LabelEncoder\n",
        "le = LabelEncoder()\n",
        "X[:,2] = le.fit_transform(X[:,2])"
      ],
      "metadata": {
        "id": "MZMvqxmMrUlC"
      },
      "execution_count": 84,
      "outputs": []
    },
    {
      "cell_type": "code",
      "source": [
        "print(X)"
      ],
      "metadata": {
        "colab": {
          "base_uri": "https://localhost:8080/"
        },
        "id": "a897jrq4rsz3",
        "outputId": "d7cb42d2-962c-4677-e812-5bc002674d5a"
      },
      "execution_count": 85,
      "outputs": [
        {
          "output_type": "stream",
          "name": "stdout",
          "text": [
            "[[553 'Delhi' 0 ... 4 1 274150]\n",
            " [447 'Bengaluru' 1 ... 4 1 519360]\n",
            " [501 'Delhi' 0 ... 4 1 545501]\n",
            " ...\n",
            " [627 'Mumbai' 0 ... 4 0 494067]\n",
            " [600 'Bengaluru' 0 ... 2 1 109375]\n",
            " [553 'Delhi' 1 ... 4 1 180031]]\n"
          ]
        }
      ]
    },
    {
      "cell_type": "code",
      "source": [
        "from sklearn.compose import ColumnTransformer\n",
        "from sklearn.preprocessing import OneHotEncoder\n",
        "\n",
        "ct = ColumnTransformer(transformers=[('encoder',OneHotEncoder(),[1])],remainder='passthrough')\n",
        "\n",
        "X = np.array(ct.fit_transform(X))"
      ],
      "metadata": {
        "id": "i5c-xzVbrwDY"
      },
      "execution_count": 86,
      "outputs": []
    },
    {
      "cell_type": "code",
      "source": [
        "print(X)"
      ],
      "metadata": {
        "colab": {
          "base_uri": "https://localhost:8080/"
        },
        "id": "nxDu_ae5ssSp",
        "outputId": "20e29efa-771a-41c3-a10f-26892e12ccdc"
      },
      "execution_count": 87,
      "outputs": [
        {
          "output_type": "stream",
          "name": "stdout",
          "text": [
            "[[0.0 1.0 0.0 ... 4 1 274150]\n",
            " [1.0 0.0 0.0 ... 4 1 519360]\n",
            " [0.0 1.0 0.0 ... 4 1 545501]\n",
            " ...\n",
            " [0.0 0.0 1.0 ... 4 0 494067]\n",
            " [1.0 0.0 0.0 ... 2 1 109375]\n",
            " [0.0 1.0 0.0 ... 4 1 180031]]\n"
          ]
        }
      ]
    },
    {
      "cell_type": "code",
      "source": [
        "from sklearn.model_selection import train_test_split\n",
        "\n",
        "X_train,X_test,y_train,y_test = train_test_split(X,y,test_size = 0.2,random_state = 0)"
      ],
      "metadata": {
        "id": "ujN1kp3PsvNy"
      },
      "execution_count": 88,
      "outputs": []
    },
    {
      "cell_type": "code",
      "source": [
        "len(X_train)"
      ],
      "metadata": {
        "colab": {
          "base_uri": "https://localhost:8080/"
        },
        "id": "JTlj5A5qw2Qz",
        "outputId": "10ecca9f-017c-444d-bebd-dd45fc404df6"
      },
      "execution_count": 89,
      "outputs": [
        {
          "output_type": "execute_result",
          "data": {
            "text/plain": [
              "7941"
            ]
          },
          "metadata": {},
          "execution_count": 89
        }
      ]
    },
    {
      "cell_type": "code",
      "source": [
        "len(y_train)"
      ],
      "metadata": {
        "colab": {
          "base_uri": "https://localhost:8080/"
        },
        "id": "l8hCeR8lw6S8",
        "outputId": "fdbc9f31-e968-4c70-d2f9-a55fa74b99fa"
      },
      "execution_count": 90,
      "outputs": [
        {
          "output_type": "execute_result",
          "data": {
            "text/plain": [
              "7941"
            ]
          },
          "metadata": {},
          "execution_count": 90
        }
      ]
    },
    {
      "cell_type": "code",
      "source": [
        "from sklearn.preprocessing import StandardScaler\n",
        "sc = StandardScaler()\n",
        "\n",
        "X_train = sc.fit_transform(X_train)\n",
        "X_test = sc.transform(X_test)"
      ],
      "metadata": {
        "id": "J3aX4353tDKz"
      },
      "execution_count": 91,
      "outputs": []
    },
    {
      "cell_type": "code",
      "source": [
        "print(X_train)"
      ],
      "metadata": {
        "colab": {
          "base_uri": "https://localhost:8080/"
        },
        "id": "ZXwJ8NS0tjbm",
        "outputId": "6220960a-f030-4fe3-8181-ed9ad147a695"
      },
      "execution_count": 92,
      "outputs": [
        {
          "output_type": "stream",
          "name": "stdout",
          "text": [
            "[[ 0.99434917 -0.57109746 -0.5792406  ...  0.90580857  0.65086753\n",
            "  -0.06854301]\n",
            " [-1.00568294 -0.57109746  1.72639831 ...  0.90580857  0.65086753\n",
            "   0.34018176]\n",
            " [ 0.99434917 -0.57109746 -0.5792406  ... -0.951175   -1.53641095\n",
            "  -0.67326188]\n",
            " ...\n",
            " [-1.00568294 -0.57109746  1.72639831 ... -0.951175    0.65086753\n",
            "  -0.17067658]\n",
            " [-1.00568294 -0.57109746  1.72639831 ... -0.951175    0.65086753\n",
            "   1.4232319 ]\n",
            " [ 0.99434917 -0.57109746 -0.5792406  ... -0.951175   -1.53641095\n",
            "  -1.67963883]]\n"
          ]
        }
      ]
    },
    {
      "cell_type": "markdown",
      "source": [
        "#ANN"
      ],
      "metadata": {
        "id": "VVm0OjpStwjh"
      }
    },
    {
      "cell_type": "markdown",
      "source": [
        "#Initializing"
      ],
      "metadata": {
        "id": "g4N7ZEQouCXA"
      }
    },
    {
      "cell_type": "code",
      "source": [
        "ann = tf.keras.models.Sequential()"
      ],
      "metadata": {
        "id": "UbhuU7oOukg8"
      },
      "execution_count": 93,
      "outputs": []
    },
    {
      "cell_type": "markdown",
      "source": [
        "# Adding input layer and first hidden layer"
      ],
      "metadata": {
        "id": "-I9ImcBeusBo"
      }
    },
    {
      "cell_type": "code",
      "source": [
        "ann.add(tf.keras.layers.Dense(units = 6 ,activation = 'relu'))"
      ],
      "metadata": {
        "id": "cluOo3E-uMrB"
      },
      "execution_count": 94,
      "outputs": []
    },
    {
      "cell_type": "markdown",
      "source": [
        "# Adding second hidden layer"
      ],
      "metadata": {
        "id": "CFgWlIymvNqB"
      }
    },
    {
      "cell_type": "code",
      "source": [
        "ann.add(tf.keras.layers.Dense(units = 6 ,activation = 'relu'))"
      ],
      "metadata": {
        "id": "ZHEgfXRsvT8O"
      },
      "execution_count": 95,
      "outputs": []
    },
    {
      "cell_type": "markdown",
      "source": [
        "# Adding output layer"
      ],
      "metadata": {
        "id": "GWmRF-uDveyT"
      }
    },
    {
      "cell_type": "code",
      "source": [
        "ann.add(tf.keras.layers.Dense(units = 1 , activation = 'sigmoid'))"
      ],
      "metadata": {
        "id": "VuYdG9XNvl3v"
      },
      "execution_count": 96,
      "outputs": []
    },
    {
      "cell_type": "markdown",
      "source": [
        "# ANN training"
      ],
      "metadata": {
        "id": "hWNk699dvyl-"
      }
    },
    {
      "cell_type": "code",
      "source": [
        "ann.compile(optimizer = 'adam' , loss = 'binary_crossentropy' , metrics = ['accuracy'])"
      ],
      "metadata": {
        "id": "yFLsW2KTv2CM"
      },
      "execution_count": 97,
      "outputs": []
    },
    {
      "cell_type": "code",
      "source": [
        "ann.fit(X_train, y_train, batch_size = 32, epochs = 120)"
      ],
      "metadata": {
        "colab": {
          "base_uri": "https://localhost:8080/"
        },
        "id": "Ixq6335dwbFV",
        "outputId": "7db81c5d-c2b9-4ee1-db88-04c7e479044f"
      },
      "execution_count": 98,
      "outputs": [
        {
          "output_type": "stream",
          "name": "stdout",
          "text": [
            "Epoch 1/120\n",
            "249/249 [==============================] - 4s 5ms/step - loss: 0.7818 - accuracy: 0.4327\n",
            "Epoch 2/120\n",
            "249/249 [==============================] - 1s 6ms/step - loss: 0.5268 - accuracy: 0.7911\n",
            "Epoch 3/120\n",
            "249/249 [==============================] - 1s 5ms/step - loss: 0.4646 - accuracy: 0.7998\n",
            "Epoch 4/120\n",
            "249/249 [==============================] - 1s 5ms/step - loss: 0.4469 - accuracy: 0.8037\n",
            "Epoch 5/120\n",
            "249/249 [==============================] - 1s 4ms/step - loss: 0.4347 - accuracy: 0.8061\n",
            "Epoch 6/120\n",
            "249/249 [==============================] - 1s 4ms/step - loss: 0.4256 - accuracy: 0.8086\n",
            "Epoch 7/120\n",
            "249/249 [==============================] - 1s 3ms/step - loss: 0.4193 - accuracy: 0.8095\n",
            "Epoch 8/120\n",
            "249/249 [==============================] - 1s 4ms/step - loss: 0.4140 - accuracy: 0.8125\n",
            "Epoch 9/120\n",
            "249/249 [==============================] - 1s 3ms/step - loss: 0.4099 - accuracy: 0.8131\n",
            "Epoch 10/120\n",
            "249/249 [==============================] - 1s 3ms/step - loss: 0.4062 - accuracy: 0.8143\n",
            "Epoch 11/120\n",
            "249/249 [==============================] - 1s 3ms/step - loss: 0.4022 - accuracy: 0.8189\n",
            "Epoch 12/120\n",
            "249/249 [==============================] - 1s 3ms/step - loss: 0.3988 - accuracy: 0.8204\n",
            "Epoch 13/120\n",
            "249/249 [==============================] - 1s 3ms/step - loss: 0.3962 - accuracy: 0.8228\n",
            "Epoch 14/120\n",
            "249/249 [==============================] - 1s 3ms/step - loss: 0.3935 - accuracy: 0.8255\n",
            "Epoch 15/120\n",
            "249/249 [==============================] - 1s 5ms/step - loss: 0.3907 - accuracy: 0.8282\n",
            "Epoch 16/120\n",
            "249/249 [==============================] - 1s 5ms/step - loss: 0.3883 - accuracy: 0.8289\n",
            "Epoch 17/120\n",
            "249/249 [==============================] - 1s 5ms/step - loss: 0.3854 - accuracy: 0.8301\n",
            "Epoch 18/120\n",
            "249/249 [==============================] - 1s 3ms/step - loss: 0.3826 - accuracy: 0.8340\n",
            "Epoch 19/120\n",
            "249/249 [==============================] - 1s 3ms/step - loss: 0.3798 - accuracy: 0.8348\n",
            "Epoch 20/120\n",
            "249/249 [==============================] - 1s 3ms/step - loss: 0.3771 - accuracy: 0.8373\n",
            "Epoch 21/120\n",
            "249/249 [==============================] - 1s 3ms/step - loss: 0.3741 - accuracy: 0.8381\n",
            "Epoch 22/120\n",
            "249/249 [==============================] - 1s 3ms/step - loss: 0.3716 - accuracy: 0.8393\n",
            "Epoch 23/120\n",
            "249/249 [==============================] - 1s 3ms/step - loss: 0.3690 - accuracy: 0.8430\n",
            "Epoch 24/120\n",
            "249/249 [==============================] - 1s 3ms/step - loss: 0.3670 - accuracy: 0.8431\n",
            "Epoch 25/120\n",
            "249/249 [==============================] - 1s 4ms/step - loss: 0.3655 - accuracy: 0.8438\n",
            "Epoch 26/120\n",
            "249/249 [==============================] - 1s 3ms/step - loss: 0.3642 - accuracy: 0.8446\n",
            "Epoch 27/120\n",
            "249/249 [==============================] - 1s 3ms/step - loss: 0.3635 - accuracy: 0.8455\n",
            "Epoch 28/120\n",
            "249/249 [==============================] - 1s 3ms/step - loss: 0.3621 - accuracy: 0.8455\n",
            "Epoch 29/120\n",
            "249/249 [==============================] - 1s 4ms/step - loss: 0.3614 - accuracy: 0.8457\n",
            "Epoch 30/120\n",
            "249/249 [==============================] - 1s 5ms/step - loss: 0.3610 - accuracy: 0.8467\n",
            "Epoch 31/120\n",
            "249/249 [==============================] - 1s 5ms/step - loss: 0.3605 - accuracy: 0.8457\n",
            "Epoch 32/120\n",
            "249/249 [==============================] - 1s 4ms/step - loss: 0.3600 - accuracy: 0.8462\n",
            "Epoch 33/120\n",
            "249/249 [==============================] - 1s 4ms/step - loss: 0.3601 - accuracy: 0.8455\n",
            "Epoch 34/120\n",
            "249/249 [==============================] - 1s 3ms/step - loss: 0.3597 - accuracy: 0.8456\n",
            "Epoch 35/120\n",
            "249/249 [==============================] - 1s 3ms/step - loss: 0.3593 - accuracy: 0.8467\n",
            "Epoch 36/120\n",
            "249/249 [==============================] - 1s 4ms/step - loss: 0.3592 - accuracy: 0.8456\n",
            "Epoch 37/120\n",
            "249/249 [==============================] - 1s 3ms/step - loss: 0.3589 - accuracy: 0.8456\n",
            "Epoch 38/120\n",
            "249/249 [==============================] - 1s 3ms/step - loss: 0.3585 - accuracy: 0.8469\n",
            "Epoch 39/120\n",
            "249/249 [==============================] - 1s 3ms/step - loss: 0.3582 - accuracy: 0.8457\n",
            "Epoch 40/120\n",
            "249/249 [==============================] - 1s 3ms/step - loss: 0.3580 - accuracy: 0.8464\n",
            "Epoch 41/120\n",
            "249/249 [==============================] - 1s 3ms/step - loss: 0.3578 - accuracy: 0.8474\n",
            "Epoch 42/120\n",
            "249/249 [==============================] - 1s 3ms/step - loss: 0.3578 - accuracy: 0.8476\n",
            "Epoch 43/120\n",
            "249/249 [==============================] - 1s 4ms/step - loss: 0.3572 - accuracy: 0.8465\n",
            "Epoch 44/120\n",
            "249/249 [==============================] - 1s 5ms/step - loss: 0.3573 - accuracy: 0.8478\n",
            "Epoch 45/120\n",
            "249/249 [==============================] - 1s 5ms/step - loss: 0.3572 - accuracy: 0.8480\n",
            "Epoch 46/120\n",
            "249/249 [==============================] - 1s 4ms/step - loss: 0.3568 - accuracy: 0.8467\n",
            "Epoch 47/120\n",
            "249/249 [==============================] - 1s 4ms/step - loss: 0.3562 - accuracy: 0.8476\n",
            "Epoch 48/120\n",
            "249/249 [==============================] - 1s 3ms/step - loss: 0.3561 - accuracy: 0.8481\n",
            "Epoch 49/120\n",
            "249/249 [==============================] - 1s 3ms/step - loss: 0.3567 - accuracy: 0.8489\n",
            "Epoch 50/120\n",
            "249/249 [==============================] - 1s 3ms/step - loss: 0.3559 - accuracy: 0.8519\n",
            "Epoch 51/120\n",
            "249/249 [==============================] - 1s 3ms/step - loss: 0.3561 - accuracy: 0.8494\n",
            "Epoch 52/120\n",
            "249/249 [==============================] - 1s 3ms/step - loss: 0.3558 - accuracy: 0.8493\n",
            "Epoch 53/120\n",
            "249/249 [==============================] - 1s 3ms/step - loss: 0.3555 - accuracy: 0.8495\n",
            "Epoch 54/120\n",
            "249/249 [==============================] - 1s 3ms/step - loss: 0.3549 - accuracy: 0.8495\n",
            "Epoch 55/120\n",
            "249/249 [==============================] - 1s 4ms/step - loss: 0.3550 - accuracy: 0.8496\n",
            "Epoch 56/120\n",
            "249/249 [==============================] - 1s 3ms/step - loss: 0.3549 - accuracy: 0.8505\n",
            "Epoch 57/120\n",
            "249/249 [==============================] - 1s 4ms/step - loss: 0.3547 - accuracy: 0.8509\n",
            "Epoch 58/120\n",
            "249/249 [==============================] - 1s 5ms/step - loss: 0.3545 - accuracy: 0.8520\n",
            "Epoch 59/120\n",
            "249/249 [==============================] - 1s 5ms/step - loss: 0.3545 - accuracy: 0.8498\n",
            "Epoch 60/120\n",
            "249/249 [==============================] - 1s 5ms/step - loss: 0.3538 - accuracy: 0.8501\n",
            "Epoch 61/120\n",
            "249/249 [==============================] - 1s 3ms/step - loss: 0.3541 - accuracy: 0.8499\n",
            "Epoch 62/120\n",
            "249/249 [==============================] - 1s 3ms/step - loss: 0.3542 - accuracy: 0.8491\n",
            "Epoch 63/120\n",
            "249/249 [==============================] - 1s 4ms/step - loss: 0.3538 - accuracy: 0.8512\n",
            "Epoch 64/120\n",
            "249/249 [==============================] - 1s 3ms/step - loss: 0.3533 - accuracy: 0.8506\n",
            "Epoch 65/120\n",
            "249/249 [==============================] - 1s 3ms/step - loss: 0.3531 - accuracy: 0.8504\n",
            "Epoch 66/120\n",
            "249/249 [==============================] - 1s 3ms/step - loss: 0.3541 - accuracy: 0.8500\n",
            "Epoch 67/120\n",
            "249/249 [==============================] - 1s 4ms/step - loss: 0.3539 - accuracy: 0.8512\n",
            "Epoch 68/120\n",
            "249/249 [==============================] - 1s 3ms/step - loss: 0.3533 - accuracy: 0.8517\n",
            "Epoch 69/120\n",
            "249/249 [==============================] - 1s 3ms/step - loss: 0.3533 - accuracy: 0.8504\n",
            "Epoch 70/120\n",
            "249/249 [==============================] - 1s 3ms/step - loss: 0.3531 - accuracy: 0.8529\n",
            "Epoch 71/120\n",
            "249/249 [==============================] - 1s 3ms/step - loss: 0.3529 - accuracy: 0.8505\n",
            "Epoch 72/120\n",
            "249/249 [==============================] - 1s 4ms/step - loss: 0.3526 - accuracy: 0.8504\n",
            "Epoch 73/120\n",
            "249/249 [==============================] - 1s 5ms/step - loss: 0.3528 - accuracy: 0.8496\n",
            "Epoch 74/120\n",
            "249/249 [==============================] - 1s 5ms/step - loss: 0.3528 - accuracy: 0.8500\n",
            "Epoch 75/120\n",
            "249/249 [==============================] - 1s 4ms/step - loss: 0.3526 - accuracy: 0.8525\n",
            "Epoch 76/120\n",
            "249/249 [==============================] - 1s 3ms/step - loss: 0.3526 - accuracy: 0.8500\n",
            "Epoch 77/120\n",
            "249/249 [==============================] - 1s 3ms/step - loss: 0.3528 - accuracy: 0.8505\n",
            "Epoch 78/120\n",
            "249/249 [==============================] - 1s 4ms/step - loss: 0.3526 - accuracy: 0.8522\n",
            "Epoch 79/120\n",
            "249/249 [==============================] - 1s 4ms/step - loss: 0.3524 - accuracy: 0.8522\n",
            "Epoch 80/120\n",
            "249/249 [==============================] - 1s 4ms/step - loss: 0.3520 - accuracy: 0.8519\n",
            "Epoch 81/120\n",
            "249/249 [==============================] - 1s 3ms/step - loss: 0.3521 - accuracy: 0.8520\n",
            "Epoch 82/120\n",
            "249/249 [==============================] - 1s 3ms/step - loss: 0.3523 - accuracy: 0.8514\n",
            "Epoch 83/120\n",
            "249/249 [==============================] - 1s 3ms/step - loss: 0.3522 - accuracy: 0.8512\n",
            "Epoch 84/120\n",
            "249/249 [==============================] - 1s 3ms/step - loss: 0.3524 - accuracy: 0.8520\n",
            "Epoch 85/120\n",
            "249/249 [==============================] - 1s 3ms/step - loss: 0.3521 - accuracy: 0.8533\n",
            "Epoch 86/120\n",
            "249/249 [==============================] - 1s 4ms/step - loss: 0.3517 - accuracy: 0.8519\n",
            "Epoch 87/120\n",
            "249/249 [==============================] - 1s 5ms/step - loss: 0.3519 - accuracy: 0.8523\n",
            "Epoch 88/120\n",
            "249/249 [==============================] - 1s 5ms/step - loss: 0.3517 - accuracy: 0.8517\n",
            "Epoch 89/120\n",
            "249/249 [==============================] - 1s 4ms/step - loss: 0.3520 - accuracy: 0.8517\n",
            "Epoch 90/120\n",
            "249/249 [==============================] - 1s 3ms/step - loss: 0.3518 - accuracy: 0.8520\n",
            "Epoch 91/120\n",
            "249/249 [==============================] - 1s 3ms/step - loss: 0.3516 - accuracy: 0.8518\n",
            "Epoch 92/120\n",
            "249/249 [==============================] - 1s 3ms/step - loss: 0.3513 - accuracy: 0.8494\n",
            "Epoch 93/120\n",
            "249/249 [==============================] - 1s 3ms/step - loss: 0.3513 - accuracy: 0.8508\n",
            "Epoch 94/120\n",
            "249/249 [==============================] - 1s 3ms/step - loss: 0.3515 - accuracy: 0.8519\n",
            "Epoch 95/120\n",
            "249/249 [==============================] - 1s 3ms/step - loss: 0.3517 - accuracy: 0.8514\n",
            "Epoch 96/120\n",
            "249/249 [==============================] - 1s 3ms/step - loss: 0.3511 - accuracy: 0.8506\n",
            "Epoch 97/120\n",
            "249/249 [==============================] - 1s 3ms/step - loss: 0.3513 - accuracy: 0.8522\n",
            "Epoch 98/120\n",
            "249/249 [==============================] - 1s 3ms/step - loss: 0.3513 - accuracy: 0.8517\n",
            "Epoch 99/120\n",
            "249/249 [==============================] - 1s 3ms/step - loss: 0.3514 - accuracy: 0.8522\n",
            "Epoch 100/120\n",
            "249/249 [==============================] - 1s 4ms/step - loss: 0.3513 - accuracy: 0.8543\n",
            "Epoch 101/120\n",
            "249/249 [==============================] - 1s 5ms/step - loss: 0.3513 - accuracy: 0.8527\n",
            "Epoch 102/120\n",
            "249/249 [==============================] - 1s 5ms/step - loss: 0.3512 - accuracy: 0.8520\n",
            "Epoch 103/120\n",
            "249/249 [==============================] - 1s 4ms/step - loss: 0.3510 - accuracy: 0.8524\n",
            "Epoch 104/120\n",
            "249/249 [==============================] - 1s 3ms/step - loss: 0.3507 - accuracy: 0.8520\n",
            "Epoch 105/120\n",
            "249/249 [==============================] - 1s 4ms/step - loss: 0.3512 - accuracy: 0.8506\n",
            "Epoch 106/120\n",
            "249/249 [==============================] - 1s 3ms/step - loss: 0.3516 - accuracy: 0.8509\n",
            "Epoch 107/120\n",
            "249/249 [==============================] - 1s 3ms/step - loss: 0.3507 - accuracy: 0.8519\n",
            "Epoch 108/120\n",
            "249/249 [==============================] - 1s 3ms/step - loss: 0.3508 - accuracy: 0.8513\n",
            "Epoch 109/120\n",
            "249/249 [==============================] - 1s 3ms/step - loss: 0.3509 - accuracy: 0.8528\n",
            "Epoch 110/120\n",
            "249/249 [==============================] - 1s 3ms/step - loss: 0.3510 - accuracy: 0.8525\n",
            "Epoch 111/120\n",
            "249/249 [==============================] - 1s 3ms/step - loss: 0.3509 - accuracy: 0.8505\n",
            "Epoch 112/120\n",
            "249/249 [==============================] - 1s 3ms/step - loss: 0.3509 - accuracy: 0.8515\n",
            "Epoch 113/120\n",
            "249/249 [==============================] - 1s 4ms/step - loss: 0.3510 - accuracy: 0.8508\n",
            "Epoch 114/120\n",
            "249/249 [==============================] - 1s 3ms/step - loss: 0.3506 - accuracy: 0.8523\n",
            "Epoch 115/120\n",
            "249/249 [==============================] - 1s 5ms/step - loss: 0.3505 - accuracy: 0.8513\n",
            "Epoch 116/120\n",
            "249/249 [==============================] - 1s 5ms/step - loss: 0.3504 - accuracy: 0.8512\n",
            "Epoch 117/120\n",
            "249/249 [==============================] - 1s 5ms/step - loss: 0.3504 - accuracy: 0.8510\n",
            "Epoch 118/120\n",
            "249/249 [==============================] - 1s 3ms/step - loss: 0.3507 - accuracy: 0.8522\n",
            "Epoch 119/120\n",
            "249/249 [==============================] - 1s 4ms/step - loss: 0.3510 - accuracy: 0.8524\n",
            "Epoch 120/120\n",
            "249/249 [==============================] - 1s 3ms/step - loss: 0.3506 - accuracy: 0.8525\n"
          ]
        },
        {
          "output_type": "execute_result",
          "data": {
            "text/plain": [
              "<keras.src.callbacks.History at 0x7e11b7b277c0>"
            ]
          },
          "metadata": {},
          "execution_count": 98
        }
      ]
    },
    {
      "cell_type": "code",
      "source": [
        "print(ann.predict(sc.transform([[0.0, 1.0, 0.0, 501, 0, 32, 2, 0.0, 4, 1, 545501]])) > 0.5)"
      ],
      "metadata": {
        "colab": {
          "base_uri": "https://localhost:8080/"
        },
        "id": "pTdW-K9s0iL7",
        "outputId": "86b6afc9-5d91-4e3b-bf04-0bb249d02b2d"
      },
      "execution_count": 101,
      "outputs": [
        {
          "output_type": "stream",
          "name": "stdout",
          "text": [
            "1/1 [==============================] - 0s 95ms/step\n",
            "[[False]]\n"
          ]
        }
      ]
    },
    {
      "cell_type": "code",
      "source": [
        "y_pred = ann.predict(X_test)\n",
        "y_pred = (y_pred > 0.5)\n",
        "\n",
        "print(np.concatenate((y_pred.reshape(len(y_pred),1),y_test.reshape(len(y_test),1)),1))"
      ],
      "metadata": {
        "colab": {
          "base_uri": "https://localhost:8080/"
        },
        "id": "P4jzV9kV0LeP",
        "outputId": "6c7a4ec8-28a7-4611-cec3-d232576d0fa3"
      },
      "execution_count": 103,
      "outputs": [
        {
          "output_type": "stream",
          "name": "stdout",
          "text": [
            "63/63 [==============================] - 0s 2ms/step\n",
            "[[0 1]\n",
            " [0 0]\n",
            " [0 0]\n",
            " ...\n",
            " [0 1]\n",
            " [0 0]\n",
            " [1 1]]\n"
          ]
        }
      ]
    },
    {
      "cell_type": "code",
      "source": [
        "from sklearn.metrics import confusion_matrix,accuracy_score\n",
        "\n",
        "cm = confusion_matrix(y_pred,y_test)\n",
        "print(cm)\n",
        "accuracy_score(y_pred,y_test)"
      ],
      "metadata": {
        "colab": {
          "base_uri": "https://localhost:8080/"
        },
        "id": "1B45afKX1uy9",
        "outputId": "6e02478d-240f-4920-e25e-c4d30702b37c"
      },
      "execution_count": 105,
      "outputs": [
        {
          "output_type": "stream",
          "name": "stdout",
          "text": [
            "[[1503  229]\n",
            " [  70  184]]\n"
          ]
        },
        {
          "output_type": "execute_result",
          "data": {
            "text/plain": [
              "0.8494461228600202"
            ]
          },
          "metadata": {},
          "execution_count": 105
        }
      ]
    }
  ]
}